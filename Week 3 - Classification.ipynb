{
 "cells": [
  {
   "cell_type": "code",
   "execution_count": 1,
   "id": "d79e32a3",
   "metadata": {},
   "outputs": [],
   "source": [
    "import pandas as pd\n",
    "import numpy as np\n",
    "import matplotlib as plt\n",
    "import seaborn as sns"
   ]
  },
  {
   "cell_type": "code",
   "execution_count": 2,
   "id": "213d1b14",
   "metadata": {},
   "outputs": [],
   "source": [
    "# !python -m wget https://raw.githubusercontent.com/alexeygrigorev/datasets/master/housing.csv"
   ]
  },
  {
   "cell_type": "code",
   "execution_count": 3,
   "id": "33e58f20",
   "metadata": {},
   "outputs": [],
   "source": [
    "df = pd.read_csv('housing.csv')"
   ]
  },
  {
   "cell_type": "code",
   "execution_count": 4,
   "id": "2d955e3a",
   "metadata": {},
   "outputs": [],
   "source": [
    "used_cols = ['latitude',\n",
    "'longitude',\n",
    "'housing_median_age',\n",
    "'total_rooms',\n",
    "'total_bedrooms',\n",
    "'population',\n",
    "'households',\n",
    "'median_income',\n",
    "'median_house_value',\n",
    "'ocean_proximity']"
   ]
  },
  {
   "cell_type": "code",
   "execution_count": 5,
   "id": "e95963d0",
   "metadata": {},
   "outputs": [],
   "source": [
    "df = df[used_cols]"
   ]
  },
  {
   "cell_type": "code",
   "execution_count": 6,
   "id": "a71130ce",
   "metadata": {},
   "outputs": [
    {
     "data": {
      "text/plain": [
       "latitude                0\n",
       "longitude               0\n",
       "housing_median_age      0\n",
       "total_rooms             0\n",
       "total_bedrooms        207\n",
       "population              0\n",
       "households              0\n",
       "median_income           0\n",
       "median_house_value      0\n",
       "ocean_proximity         0\n",
       "dtype: int64"
      ]
     },
     "execution_count": 6,
     "metadata": {},
     "output_type": "execute_result"
    }
   ],
   "source": [
    "df.isna().sum()"
   ]
  },
  {
   "cell_type": "code",
   "execution_count": 7,
   "id": "2907e472",
   "metadata": {},
   "outputs": [
    {
     "data": {
      "text/plain": [
       "latitude              0\n",
       "longitude             0\n",
       "housing_median_age    0\n",
       "total_rooms           0\n",
       "total_bedrooms        0\n",
       "population            0\n",
       "households            0\n",
       "median_income         0\n",
       "median_house_value    0\n",
       "ocean_proximity       0\n",
       "dtype: int64"
      ]
     },
     "execution_count": 7,
     "metadata": {},
     "output_type": "execute_result"
    }
   ],
   "source": [
    "df.fillna(0, inplace=True)\n",
    "df.isna().sum()"
   ]
  },
  {
   "cell_type": "code",
   "execution_count": 8,
   "id": "8651b7c4",
   "metadata": {},
   "outputs": [
    {
     "data": {
      "text/plain": [
       "latitude              float64\n",
       "longitude             float64\n",
       "housing_median_age    float64\n",
       "total_rooms           float64\n",
       "total_bedrooms        float64\n",
       "population            float64\n",
       "households            float64\n",
       "median_income         float64\n",
       "median_house_value    float64\n",
       "ocean_proximity        object\n",
       "dtype: object"
      ]
     },
     "execution_count": 8,
     "metadata": {},
     "output_type": "execute_result"
    }
   ],
   "source": [
    "df.dtypes"
   ]
  },
  {
   "cell_type": "code",
   "execution_count": 9,
   "id": "623b5859",
   "metadata": {},
   "outputs": [],
   "source": [
    "df['rooms_per_household'] = df['total_rooms'] / df['households']\n",
    "df['bedrooms_per_room'] = df['total_bedrooms'] / df['total_rooms']\n",
    "df['population_per_household'] = df['population'] / df['households']"
   ]
  },
  {
   "cell_type": "markdown",
   "id": "52b47f57",
   "metadata": {},
   "source": [
    "## Question 1"
   ]
  },
  {
   "cell_type": "markdown",
   "id": "0189d924",
   "metadata": {},
   "source": [
    "What is the mode for ocean_proximity?"
   ]
  },
  {
   "cell_type": "code",
   "execution_count": 10,
   "id": "d32207af",
   "metadata": {},
   "outputs": [
    {
     "data": {
      "text/plain": [
       "0    <1H OCEAN\n",
       "dtype: object"
      ]
     },
     "execution_count": 10,
     "metadata": {},
     "output_type": "execute_result"
    }
   ],
   "source": [
    "df['ocean_proximity'].mode()"
   ]
  },
  {
   "cell_type": "markdown",
   "id": "ba9eb8d2",
   "metadata": {},
   "source": [
    "Answer: <1H OCEAN"
   ]
  },
  {
   "cell_type": "markdown",
   "id": "3bf2fc13",
   "metadata": {},
   "source": [
    "## Question 2"
   ]
  },
  {
   "cell_type": "code",
   "execution_count": 11,
   "id": "45718ee5",
   "metadata": {},
   "outputs": [],
   "source": [
    "numerical = [\n",
    " 'latitude', 'longitude', 'housing_median_age', 'total_rooms',\n",
    "       'total_bedrooms', 'population', 'households', 'median_income',\n",
    "        'rooms_per_household',\n",
    "       'bedrooms_per_room', 'population_per_household'   \n",
    "]"
   ]
  },
  {
   "cell_type": "code",
   "execution_count": 12,
   "id": "5e1fd11f",
   "metadata": {},
   "outputs": [
    {
     "name": "stdout",
     "output_type": "stream",
     "text": [
      "latitude\n",
      "latitude                    1.000000\n",
      "rooms_per_household         0.106389\n",
      "housing_median_age          0.011173\n",
      "population_per_household    0.002366\n",
      "total_rooms                -0.036100\n",
      "total_bedrooms             -0.065318\n",
      "households                 -0.071035\n",
      "median_income              -0.079809\n",
      "bedrooms_per_room          -0.104112\n",
      "population                 -0.108785\n",
      "longitude                  -0.924664\n",
      "dtype: float64\n",
      "longitude\n",
      "longitude                   1.000000\n",
      "population                  0.099773\n",
      "bedrooms_per_room           0.084836\n",
      "total_bedrooms              0.068082\n",
      "households                  0.055310\n",
      "total_rooms                 0.044568\n",
      "population_per_household    0.002476\n",
      "median_income              -0.015176\n",
      "rooms_per_household        -0.027540\n",
      "housing_median_age         -0.108197\n",
      "latitude                   -0.924664\n",
      "dtype: float64\n",
      "housing_median_age\n",
      "housing_median_age          1.000000\n",
      "bedrooms_per_room           0.125396\n",
      "population_per_household    0.013191\n",
      "latitude                    0.011173\n",
      "longitude                  -0.108197\n",
      "median_income              -0.119034\n",
      "rooms_per_household        -0.153277\n",
      "population                 -0.296244\n",
      "households                 -0.302916\n",
      "total_bedrooms             -0.317063\n",
      "total_rooms                -0.361262\n",
      "dtype: float64\n",
      "total_rooms\n",
      "total_rooms                 1.000000\n",
      "total_bedrooms              0.920196\n",
      "households                  0.918484\n",
      "population                  0.857126\n",
      "median_income               0.198050\n",
      "rooms_per_household         0.133798\n",
      "longitude                   0.044568\n",
      "population_per_household   -0.024581\n",
      "latitude                   -0.036100\n",
      "bedrooms_per_room          -0.174583\n",
      "housing_median_age         -0.361262\n",
      "dtype: float64\n",
      "total_bedrooms\n",
      "total_bedrooms              1.000000\n",
      "households                  0.966507\n",
      "total_rooms                 0.920196\n",
      "population                  0.866266\n",
      "bedrooms_per_room           0.122205\n",
      "longitude                   0.068082\n",
      "rooms_per_household         0.002717\n",
      "median_income              -0.007295\n",
      "population_per_household   -0.028019\n",
      "latitude                   -0.065318\n",
      "housing_median_age         -0.317063\n",
      "dtype: float64\n",
      "population\n",
      "population                  1.000000\n",
      "households                  0.907222\n",
      "total_bedrooms              0.866266\n",
      "total_rooms                 0.857126\n",
      "longitude                   0.099773\n",
      "population_per_household    0.069863\n",
      "bedrooms_per_room           0.031397\n",
      "median_income               0.004834\n",
      "rooms_per_household        -0.072213\n",
      "latitude                   -0.108785\n",
      "housing_median_age         -0.296244\n",
      "dtype: float64\n",
      "households\n",
      "households                  1.000000\n",
      "total_bedrooms              0.966507\n",
      "total_rooms                 0.918484\n",
      "population                  0.907222\n",
      "bedrooms_per_room           0.059818\n",
      "longitude                   0.055310\n",
      "median_income               0.013033\n",
      "population_per_household   -0.027309\n",
      "latitude                   -0.071035\n",
      "rooms_per_household        -0.080598\n",
      "housing_median_age         -0.302916\n",
      "dtype: float64\n",
      "median_income\n",
      "median_income               1.000000\n",
      "rooms_per_household         0.326895\n",
      "total_rooms                 0.198050\n",
      "population_per_household    0.018766\n",
      "households                  0.013033\n",
      "population                  0.004834\n",
      "total_bedrooms             -0.007295\n",
      "longitude                  -0.015176\n",
      "latitude                   -0.079809\n",
      "housing_median_age         -0.119034\n",
      "bedrooms_per_room          -0.573836\n",
      "dtype: float64\n",
      "rooms_per_household\n",
      "rooms_per_household         1.000000\n",
      "median_income               0.326895\n",
      "total_rooms                 0.133798\n",
      "latitude                    0.106389\n",
      "total_bedrooms              0.002717\n",
      "population_per_household   -0.004852\n",
      "longitude                  -0.027540\n",
      "population                 -0.072213\n",
      "households                 -0.080598\n",
      "housing_median_age         -0.153277\n",
      "bedrooms_per_room          -0.387465\n",
      "dtype: float64\n",
      "bedrooms_per_room\n",
      "bedrooms_per_room           1.000000\n",
      "housing_median_age          0.125396\n",
      "total_bedrooms              0.122205\n",
      "longitude                   0.084836\n",
      "households                  0.059818\n",
      "population                  0.031397\n",
      "population_per_household    0.003047\n",
      "latitude                   -0.104112\n",
      "total_rooms                -0.174583\n",
      "rooms_per_household        -0.387465\n",
      "median_income              -0.573836\n",
      "dtype: float64\n",
      "population_per_household\n",
      "population_per_household    1.000000\n",
      "population                  0.069863\n",
      "median_income               0.018766\n",
      "housing_median_age          0.013191\n",
      "bedrooms_per_room           0.003047\n",
      "longitude                   0.002476\n",
      "latitude                    0.002366\n",
      "rooms_per_household        -0.004852\n",
      "total_rooms                -0.024581\n",
      "households                 -0.027309\n",
      "total_bedrooms             -0.028019\n",
      "dtype: float64\n"
     ]
    }
   ],
   "source": [
    "for i in numerical:\n",
    "    print(i)\n",
    "    print(df[numerical].corrwith(df[i]).sort_values(ascending=False))"
   ]
  },
  {
   "cell_type": "markdown",
   "id": "cf27cc12",
   "metadata": {},
   "source": [
    "The winner: total bedrooms vs. housholds 0.980255 <br>\n",
    "total bedrooms vs. total rooms 0.930489 <br>\n",
    "population vs. households 0.907452 <br>\n",
    "population_per_household vs. total_rooms -0.024991 <br>"
   ]
  },
  {
   "cell_type": "code",
   "execution_count": 13,
   "id": "99c82288",
   "metadata": {},
   "outputs": [],
   "source": [
    "mean_value = df['median_house_value'].mean()\n",
    "df['above_average'] = df['median_house_value'].apply(lambda x: 1 if x > mean_value else 0)"
   ]
  },
  {
   "cell_type": "code",
   "execution_count": 14,
   "id": "908f74b2",
   "metadata": {},
   "outputs": [
    {
     "data": {
      "text/html": [
       "<div>\n",
       "<style scoped>\n",
       "    .dataframe tbody tr th:only-of-type {\n",
       "        vertical-align: middle;\n",
       "    }\n",
       "\n",
       "    .dataframe tbody tr th {\n",
       "        vertical-align: top;\n",
       "    }\n",
       "\n",
       "    .dataframe thead th {\n",
       "        text-align: right;\n",
       "    }\n",
       "</style>\n",
       "<table border=\"1\" class=\"dataframe\">\n",
       "  <thead>\n",
       "    <tr style=\"text-align: right;\">\n",
       "      <th></th>\n",
       "      <th>latitude</th>\n",
       "      <th>longitude</th>\n",
       "      <th>housing_median_age</th>\n",
       "      <th>total_rooms</th>\n",
       "      <th>total_bedrooms</th>\n",
       "      <th>population</th>\n",
       "      <th>households</th>\n",
       "      <th>median_income</th>\n",
       "      <th>median_house_value</th>\n",
       "      <th>ocean_proximity</th>\n",
       "      <th>rooms_per_household</th>\n",
       "      <th>bedrooms_per_room</th>\n",
       "      <th>population_per_household</th>\n",
       "      <th>above_average</th>\n",
       "    </tr>\n",
       "  </thead>\n",
       "  <tbody>\n",
       "    <tr>\n",
       "      <th>0</th>\n",
       "      <td>37.88</td>\n",
       "      <td>-122.23</td>\n",
       "      <td>41.0</td>\n",
       "      <td>880.0</td>\n",
       "      <td>129.0</td>\n",
       "      <td>322.0</td>\n",
       "      <td>126.0</td>\n",
       "      <td>8.3252</td>\n",
       "      <td>452600.0</td>\n",
       "      <td>NEAR BAY</td>\n",
       "      <td>6.984127</td>\n",
       "      <td>0.146591</td>\n",
       "      <td>2.555556</td>\n",
       "      <td>1</td>\n",
       "    </tr>\n",
       "  </tbody>\n",
       "</table>\n",
       "</div>"
      ],
      "text/plain": [
       "   latitude  longitude  housing_median_age  total_rooms  total_bedrooms  \\\n",
       "0     37.88    -122.23                41.0        880.0           129.0   \n",
       "\n",
       "   population  households  median_income  median_house_value ocean_proximity  \\\n",
       "0       322.0       126.0         8.3252            452600.0        NEAR BAY   \n",
       "\n",
       "   rooms_per_household  bedrooms_per_room  population_per_household  \\\n",
       "0             6.984127           0.146591                  2.555556   \n",
       "\n",
       "   above_average  \n",
       "0              1  "
      ]
     },
     "execution_count": 14,
     "metadata": {},
     "output_type": "execute_result"
    }
   ],
   "source": [
    "df.head(1)"
   ]
  },
  {
   "cell_type": "markdown",
   "id": "b74f671d",
   "metadata": {},
   "source": [
    "## Data splitting"
   ]
  },
  {
   "cell_type": "code",
   "execution_count": 15,
   "id": "8acd4f1b",
   "metadata": {},
   "outputs": [],
   "source": [
    "from sklearn.model_selection import train_test_split"
   ]
  },
  {
   "cell_type": "code",
   "execution_count": 16,
   "id": "dbab714b",
   "metadata": {},
   "outputs": [],
   "source": [
    "df_full_train, df_test = train_test_split(df, test_size=0.2, random_state=42)"
   ]
  },
  {
   "cell_type": "code",
   "execution_count": 17,
   "id": "7604fb38",
   "metadata": {},
   "outputs": [],
   "source": [
    "df_train, df_val = train_test_split(df_full_train, test_size=0.25, random_state=42)"
   ]
  },
  {
   "cell_type": "code",
   "execution_count": 18,
   "id": "f139e2e3",
   "metadata": {},
   "outputs": [],
   "source": [
    "df_train.reset_index(drop=True, inplace=True)\n",
    "df_val.reset_index(drop=True, inplace=True)\n",
    "df_test.reset_index(drop=True, inplace=True)"
   ]
  },
  {
   "cell_type": "code",
   "execution_count": 19,
   "id": "f6bce3e0",
   "metadata": {},
   "outputs": [],
   "source": [
    "y_train = df_train.median_house_value.values\n",
    "y_val = df_val.median_house_value.values\n",
    "y_test = df_test.median_house_value.values"
   ]
  },
  {
   "cell_type": "code",
   "execution_count": 20,
   "id": "6d0a9d83",
   "metadata": {},
   "outputs": [],
   "source": [
    "del df_train['median_house_value']\n",
    "del df_val['median_house_value']\n",
    "del df_test['median_house_value']"
   ]
  },
  {
   "cell_type": "markdown",
   "id": "81f903d6",
   "metadata": {},
   "source": [
    "## Question 3"
   ]
  },
  {
   "cell_type": "code",
   "execution_count": 21,
   "id": "19a5ffa2",
   "metadata": {},
   "outputs": [],
   "source": [
    "from sklearn.metrics import mutual_info_score"
   ]
  },
  {
   "cell_type": "code",
   "execution_count": 22,
   "id": "6c4810cb",
   "metadata": {},
   "outputs": [
    {
     "data": {
      "text/plain": [
       "0.1"
      ]
     },
     "execution_count": 22,
     "metadata": {},
     "output_type": "execute_result"
    }
   ],
   "source": [
    "score = mutual_info_score(df['above_average'], df['ocean_proximity'])\n",
    "round(score, 2)"
   ]
  },
  {
   "cell_type": "markdown",
   "id": "9a97c4d8",
   "metadata": {},
   "source": [
    "## Question 4"
   ]
  },
  {
   "cell_type": "code",
   "execution_count": 23,
   "id": "9b06aa56",
   "metadata": {},
   "outputs": [],
   "source": [
    "y_train = df_train.above_average.values\n",
    "y_val = df_val.above_average.values\n",
    "y_test = df_test.above_average.values\n",
    "\n",
    "del df_train['above_average']\n",
    "del df_val['above_average']\n",
    "del df_test['above_average']"
   ]
  },
  {
   "cell_type": "code",
   "execution_count": 24,
   "id": "bae31826",
   "metadata": {},
   "outputs": [],
   "source": [
    "from sklearn.feature_extraction import DictVectorizer"
   ]
  },
  {
   "cell_type": "code",
   "execution_count": 25,
   "id": "a651d326",
   "metadata": {},
   "outputs": [],
   "source": [
    "train_dicts = df_train[['ocean_proximity'] + numerical ].to_dict(orient='records')"
   ]
  },
  {
   "cell_type": "code",
   "execution_count": 26,
   "id": "8d935152",
   "metadata": {},
   "outputs": [],
   "source": [
    "dv = DictVectorizer(sparse=False)"
   ]
  },
  {
   "cell_type": "code",
   "execution_count": 27,
   "id": "6c6470dd",
   "metadata": {},
   "outputs": [],
   "source": [
    "X_train = dv.fit_transform(train_dicts)"
   ]
  },
  {
   "cell_type": "code",
   "execution_count": 28,
   "id": "89ccb545",
   "metadata": {},
   "outputs": [],
   "source": [
    "val_dicts = df_val[['ocean_proximity'] + numerical].to_dict(orient='records')"
   ]
  },
  {
   "cell_type": "code",
   "execution_count": 29,
   "id": "164c9a93",
   "metadata": {},
   "outputs": [],
   "source": [
    "X_val = dv.transform(val_dicts)"
   ]
  },
  {
   "cell_type": "code",
   "execution_count": 30,
   "id": "fbeb7616",
   "metadata": {},
   "outputs": [],
   "source": [
    "from sklearn.linear_model import LogisticRegression"
   ]
  },
  {
   "cell_type": "code",
   "execution_count": 31,
   "id": "4a19e0ff",
   "metadata": {},
   "outputs": [],
   "source": [
    "model = LogisticRegression(solver=\"liblinear\", C=1.0, max_iter=1000, random_state=42)"
   ]
  },
  {
   "cell_type": "code",
   "execution_count": 32,
   "id": "13223da7",
   "metadata": {},
   "outputs": [
    {
     "data": {
      "text/plain": [
       "LogisticRegression(max_iter=1000, random_state=42, solver='liblinear')"
      ]
     },
     "execution_count": 32,
     "metadata": {},
     "output_type": "execute_result"
    }
   ],
   "source": [
    "model.fit(X_train, y_train)"
   ]
  },
  {
   "cell_type": "code",
   "execution_count": 33,
   "id": "c2395e26",
   "metadata": {},
   "outputs": [],
   "source": [
    "y_pred = model.predict_proba(X_val)[:, 1]"
   ]
  },
  {
   "cell_type": "code",
   "execution_count": 34,
   "id": "8cc43654",
   "metadata": {},
   "outputs": [],
   "source": [
    "above_decision = (y_pred >= 0.5)"
   ]
  },
  {
   "cell_type": "code",
   "execution_count": 35,
   "id": "9fee8ad4",
   "metadata": {},
   "outputs": [
    {
     "data": {
      "text/plain": [
       "0.84"
      ]
     },
     "execution_count": 35,
     "metadata": {},
     "output_type": "execute_result"
    }
   ],
   "source": [
    "round((y_val == above_decision).mean(),2)"
   ]
  },
  {
   "cell_type": "code",
   "execution_count": 36,
   "id": "32a906eb",
   "metadata": {},
   "outputs": [],
   "source": [
    "df_pred = pd.DataFrame()\n",
    "df_pred['probability'] = y_pred\n",
    "df_pred['prediction'] = above_decision.astype(int)\n",
    "df_pred['actual'] = y_val"
   ]
  },
  {
   "cell_type": "code",
   "execution_count": 37,
   "id": "6d646974",
   "metadata": {},
   "outputs": [],
   "source": [
    "df_pred['correct'] = df_pred.prediction == df_pred.actual"
   ]
  },
  {
   "cell_type": "code",
   "execution_count": 38,
   "id": "d115fe15",
   "metadata": {},
   "outputs": [],
   "source": [
    "og_acc = df_pred.correct.mean()"
   ]
  },
  {
   "cell_type": "markdown",
   "id": "acebf8be",
   "metadata": {},
   "source": [
    "## Question 5"
   ]
  },
  {
   "cell_type": "code",
   "execution_count": 39,
   "id": "81232e7f",
   "metadata": {},
   "outputs": [],
   "source": [
    "numerical1 = ['latitude', 'longitude', 'housing_median_age',\n",
    "       'total_bedrooms', 'population', 'households', 'median_income',\n",
    "        'rooms_per_household',\n",
    "       'bedrooms_per_room', 'population_per_household']\n",
    "numerical2 = [ 'latitude', 'longitude', 'housing_median_age', 'total_rooms',\n",
    "        'population', 'households', 'median_income',\n",
    "        'rooms_per_household',\n",
    "       'bedrooms_per_room', 'population_per_household'   ]\n",
    "numerical3 = [ 'latitude', 'longitude', 'housing_median_age', 'total_rooms',\n",
    "       'total_bedrooms', 'households', 'median_income',\n",
    "        'rooms_per_household',\n",
    "       'bedrooms_per_room', 'population_per_household'   ]\n",
    "numerical4 = [ 'latitude', 'longitude', 'housing_median_age', 'total_rooms',\n",
    "       'total_bedrooms', 'population', 'median_income',\n",
    "        'rooms_per_household',\n",
    "       'bedrooms_per_room', 'population_per_household'   ]"
   ]
  },
  {
   "cell_type": "code",
   "execution_count": 40,
   "id": "c66da3cc",
   "metadata": {},
   "outputs": [],
   "source": [
    "test_list = [numerical1, numerical2, numerical3, numerical4]\n",
    "acc_list = []\n",
    "for i in test_list:\n",
    "    train_dicts = df_train[['ocean_proximity'] +  i].to_dict(orient='records')\n",
    "    dv = DictVectorizer(sparse=False)\n",
    "    X_train = dv.fit_transform(train_dicts)\n",
    "    val_dicts = df_val[['ocean_proximity'] + i].to_dict(orient='records')\n",
    "    X_val = dv.transform(val_dicts)\n",
    "    model = LogisticRegression(solver=\"liblinear\", C=1.0, max_iter=1000, random_state=42)\n",
    "    model.fit(X_train, y_train)\n",
    "    y_pred = model.predict_proba(X_val)[:, 1]\n",
    "    above_decision = (y_pred >= 0.5)\n",
    "    acc_list.append((y_val == above_decision).mean())"
   ]
  },
  {
   "cell_type": "code",
   "execution_count": 42,
   "id": "1fba8d94",
   "metadata": {},
   "outputs": [
    {
     "data": {
      "text/plain": [
       "array([ 0.0004845 , -0.0004845 , -0.01041667, -0.00290698])"
      ]
     },
     "execution_count": 42,
     "metadata": {},
     "output_type": "execute_result"
    }
   ],
   "source": [
    "acc_list - og_acc"
   ]
  },
  {
   "cell_type": "code",
   "execution_count": 43,
   "id": "af0e0844",
   "metadata": {},
   "outputs": [
    {
     "data": {
      "text/plain": [
       "-0.01041666666666674"
      ]
     },
     "execution_count": 43,
     "metadata": {},
     "output_type": "execute_result"
    }
   ],
   "source": [
    "min(acc_list - og_acc)"
   ]
  },
  {
   "cell_type": "markdown",
   "id": "b964b704",
   "metadata": {},
   "source": [
    "This means population has the smallest difference between original accuracy and accuracy without the feature"
   ]
  },
  {
   "cell_type": "markdown",
   "id": "d2975755",
   "metadata": {},
   "source": [
    "## Question 6"
   ]
  },
  {
   "cell_type": "code",
   "execution_count": 45,
   "id": "f8ddb4d9",
   "metadata": {},
   "outputs": [],
   "source": [
    "df_full_train, df_test = train_test_split(df, test_size=0.2, random_state=42)\n",
    "df_train, df_val = train_test_split(df_full_train, test_size=0.25, random_state=42)\n",
    "\n",
    "df_train.reset_index(drop=True, inplace=True)\n",
    "df_val.reset_index(drop=True, inplace=True)\n",
    "df_test.reset_index(drop=True, inplace=True)\n",
    "\n",
    "y_train = df_train.median_house_value.values\n",
    "y_val = df_val.median_house_value.values\n",
    "y_test = df_test.median_house_value.values\n",
    "\n",
    "del df_train['median_house_value']\n",
    "del df_val['median_house_value']\n",
    "del df_test['median_house_value']"
   ]
  },
  {
   "cell_type": "code",
   "execution_count": 49,
   "id": "6d6f9429",
   "metadata": {},
   "outputs": [],
   "source": [
    "def rmse(y, y_pred):\n",
    "    error = y-y_pred\n",
    "    se = error ** 2\n",
    "    mse = se.mean()\n",
    "    return np.sqrt(mse)"
   ]
  },
  {
   "cell_type": "code",
   "execution_count": 56,
   "id": "07a9fa79",
   "metadata": {},
   "outputs": [],
   "source": [
    "from sklearn.linear_model import Ridge\n",
    "from sklearn.metrics import mean_absolute_error"
   ]
  },
  {
   "cell_type": "code",
   "execution_count": 61,
   "id": "7f62e3ba",
   "metadata": {},
   "outputs": [
    {
     "name": "stdout",
     "output_type": "stream",
     "text": [
      "0 83133.522\n",
      "0.01 83133.522\n",
      "0.1 83133.522\n",
      "1 83133.522\n",
      "10 83133.525\n"
     ]
    }
   ],
   "source": [
    "alpha_list = [0, 0.01, 0.1, 1, 10]\n",
    "for a in alpha_list:\n",
    "    model = Ridge(alpha=a, solver=\"sag\", random_state=42)\n",
    "    \n",
    "    train_dicts = df_train[['ocean_proximity'] + numerical ].to_dict(orient='records')\n",
    "    dv = DictVectorizer(sparse=False)\n",
    "    X_train = dv.fit_transform(train_dicts)\n",
    "    val_dicts = df_val[['ocean_proximity'] + numerical].to_dict(orient='records')\n",
    "    X_val = dv.transform(val_dicts)\n",
    "    \n",
    "    model.fit(X_train, y_train)\n",
    "    y_pred = model.predict(X_val)\n",
    "    print(a, round(mean_absolute_error(y_val, y_pred), 3))"
   ]
  },
  {
   "cell_type": "markdown",
   "id": "0ef0bfc8",
   "metadata": {},
   "source": [
    "The best and smallest RMSE alpha is 0 "
   ]
  },
  {
   "cell_type": "code",
   "execution_count": null,
   "id": "fdd0ec9b",
   "metadata": {},
   "outputs": [],
   "source": []
  },
  {
   "cell_type": "code",
   "execution_count": null,
   "id": "a510b9e0",
   "metadata": {},
   "outputs": [],
   "source": []
  },
  {
   "cell_type": "code",
   "execution_count": null,
   "id": "8a4f08ff",
   "metadata": {},
   "outputs": [],
   "source": []
  }
 ],
 "metadata": {
  "kernelspec": {
   "display_name": "Python 3",
   "language": "python",
   "name": "python3"
  },
  "language_info": {
   "codemirror_mode": {
    "name": "ipython",
    "version": 3
   },
   "file_extension": ".py",
   "mimetype": "text/x-python",
   "name": "python",
   "nbconvert_exporter": "python",
   "pygments_lexer": "ipython3",
   "version": "3.8.8"
  }
 },
 "nbformat": 4,
 "nbformat_minor": 5
}
